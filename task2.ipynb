{
 "cells": [
  {
   "cell_type": "markdown",
   "metadata": {
    "toc": true
   },
   "source": [
    "<h1>Table of Contents<span class=\"tocSkip\"></span></h1>\n",
    "<div class=\"toc\"><ul class=\"toc-item\"><li><span><a href=\"#Imports-and-setup\" data-toc-modified-id=\"Imports-and-setup-1\"><span class=\"toc-item-num\">1&nbsp;&nbsp;</span>Imports and setup</a></span></li><li><span><a href=\"#Option-1---Bin-Counting-and-One-hot-encoding\" data-toc-modified-id=\"Option-1---Bin-Counting-and-One-hot-encoding-2\"><span class=\"toc-item-num\">2&nbsp;&nbsp;</span>Option 1 - Bin Counting and One-hot encoding</a></span><ul class=\"toc-item\"><li><span><a href=\"#Testing-it-out-(1)\" data-toc-modified-id=\"Testing-it-out-(1)-2.1\"><span class=\"toc-item-num\">2.1&nbsp;&nbsp;</span>Testing it out (1)</a></span><ul class=\"toc-item\"><li><ul class=\"toc-item\"><li><span><a href=\"#Bin-counting\" data-toc-modified-id=\"Bin-counting-2.1.0.1\"><span class=\"toc-item-num\">2.1.0.1&nbsp;&nbsp;</span>Bin counting</a></span></li></ul></li></ul></li></ul></li><li><span><a href=\"#Option-2---Feature-hashing-and-One-hot-encoding\" data-toc-modified-id=\"Option-2---Feature-hashing-and-One-hot-encoding-3\"><span class=\"toc-item-num\">3&nbsp;&nbsp;</span>Option 2 - Feature hashing and One-hot encoding</a></span><ul class=\"toc-item\"><li><span><a href=\"#Testing-it-out-(2)\" data-toc-modified-id=\"Testing-it-out-(2)-3.1\"><span class=\"toc-item-num\">3.1&nbsp;&nbsp;</span>Testing it out (2)</a></span><ul class=\"toc-item\"><li><ul class=\"toc-item\"><li><span><a href=\"#Feature-hashing\" data-toc-modified-id=\"Feature-hashing-3.1.0.1\"><span class=\"toc-item-num\">3.1.0.1&nbsp;&nbsp;</span>Feature hashing</a></span></li></ul></li></ul></li></ul></li></ul></div>"
   ]
  },
  {
   "cell_type": "markdown",
   "metadata": {},
   "source": [
    "# Task 2 <a class=\"tocSkip\">"
   ]
  },
  {
   "cell_type": "markdown",
   "metadata": {},
   "source": [
    "### Imports and setup"
   ]
  },
  {
   "cell_type": "code",
   "execution_count": 1,
   "metadata": {},
   "outputs": [],
   "source": [
    "import numpy as np\n",
    "import pandas as pd\n",
    "from sklearn.datasets import make_regression\n",
    "from sklearn.preprocessing import OneHotEncoder\n",
    "from sklearn.feature_extraction import FeatureHasher"
   ]
  },
  {
   "cell_type": "code",
   "execution_count": 2,
   "metadata": {},
   "outputs": [],
   "source": [
    "# Generating synthetic regression dataset, all numeric columns\n",
    "df, y = make_regression(n_samples=1000, n_features=4, n_informative=4, random_state = 0)\n",
    "df = pd.DataFrame(df, columns=['col1', 'col2', 'col3', 'col4'])\n",
    "y = pd.DataFrame(y, columns=['target'])\n",
    "df = pd.concat([y, df], axis=1)\n",
    "\n",
    "# Generating synthetic categorical columns, one with high cardinality and another with low\n",
    "high_card_col = pd.DataFrame(np.random.choice(range(4000,4500), 1000), columns = ['cat1'])\n",
    "low_card_col = pd.DataFrame(np.random.choice(range(1,10), 1000), columns = ['cat2'])\n",
    "\n",
    "df = pd.concat([df, high_card_col, low_card_col], axis=1)\n",
    "\n",
    "# Changing dtype away from numeric - str or object will do\n",
    "df['cat1'] = df['cat1'].astype('str')\n",
    "df['cat2'] = df['cat2'].astype('str')"
   ]
  },
  {
   "cell_type": "markdown",
   "metadata": {},
   "source": [
    "Cardinality of 'cat1'"
   ]
  },
  {
   "cell_type": "code",
   "execution_count": 3,
   "metadata": {},
   "outputs": [
    {
     "data": {
      "text/plain": [
       "436"
      ]
     },
     "execution_count": 3,
     "metadata": {},
     "output_type": "execute_result"
    }
   ],
   "source": [
    "len(df['cat1'].unique())"
   ]
  },
  {
   "cell_type": "markdown",
   "metadata": {},
   "source": [
    "Cardinality of 'cat2'"
   ]
  },
  {
   "cell_type": "code",
   "execution_count": 4,
   "metadata": {},
   "outputs": [
    {
     "data": {
      "text/plain": [
       "9"
      ]
     },
     "execution_count": 4,
     "metadata": {},
     "output_type": "execute_result"
    }
   ],
   "source": [
    "len(df['cat2'].unique())"
   ]
  },
  {
   "cell_type": "markdown",
   "metadata": {},
   "source": [
    "# <a class=\"tocSkip\">"
   ]
  },
  {
   "cell_type": "markdown",
   "metadata": {},
   "source": [
    "### Option 1 - Bin Counting and One-hot encoding\n",
    "\n",
    "Bin counting converts a categorical column of arbitrary cardinality into a single column containing its odds or log-odds.\n",
    "\n",
    "Here, we employ bin counting when the cardinality of a categorical column is above 10, and one-hot encoding otherwise."
   ]
  },
  {
   "cell_type": "code",
   "execution_count": 5,
   "metadata": {},
   "outputs": [],
   "source": [
    "def column_encoder(df, i):\n",
    "    \n",
    "    \"\"\"\n",
    "    Returns the log-odds of the count values for a categorical column in the input dataframe.\n",
    "    \n",
    "    Args ->\n",
    "        df (pd.Series or pd.DataFrame): The input dataframe\n",
    "        i (int): The index of the column in the df to be transformed\n",
    "    \n",
    "    Returns ->\n",
    "        encoded (pd.Series): A pd.Series object which is an encoded form of the\n",
    "        original column.\n",
    "    \n",
    "    Raises ->\n",
    "        AssertionError: On various conditions\n",
    "    \"\"\"\n",
    "    \n",
    "    assert df.shape[0] > 0\n",
    "    assert isinstance(i, int)\n",
    "    \n",
    "    col = df.iloc[:,i]\n",
    "    \n",
    "    # Checking if column in categorical\n",
    "    if col.dtype not in ['str', 'object', 'O']:\n",
    "        return\n",
    "    \n",
    "    counts = col.value_counts()\n",
    "    \n",
    "    cardinality = len(col.unique())\n",
    "    \n",
    "    # Bin counting\n",
    "    if cardinality > 10:\n",
    "    \n",
    "        prop = counts/df.shape[0]\n",
    "        not_prop = (df.shape[0] - counts)/df.shape[0]\n",
    "        log_odds_ratio = np.log(prop) - np.log(not_prop)                  \n",
    "        encoded = col.map(log_odds_ratio.to_dict())\n",
    "        \n",
    "        return encoded\n",
    "    \n",
    "    # One-hot encoding\n",
    "    else:\n",
    "        ohe = OneHotEncoder(handle_unknown='ignore', sparse=True)\n",
    "        encoded = ohe.fit_transform(np.array(col).reshape(-1,1))\n",
    "        encoded = pd.DataFrame(encoded.toarray())\n",
    "        return encoded"
   ]
  },
  {
   "cell_type": "markdown",
   "metadata": {},
   "source": [
    "#### Testing it out (1)"
   ]
  },
  {
   "cell_type": "markdown",
   "metadata": {},
   "source": [
    "###### Bin counting"
   ]
  },
  {
   "cell_type": "code",
   "execution_count": 6,
   "metadata": {},
   "outputs": [
    {
     "data": {
      "text/plain": [
       "0     -5.806138\n",
       "1     -5.806138\n",
       "2     -5.293305\n",
       "3     -5.517453\n",
       "4     -6.212606\n",
       "         ...   \n",
       "995   -5.806138\n",
       "996   -6.212606\n",
       "997   -5.806138\n",
       "998   -5.517453\n",
       "999   -5.806138\n",
       "Name: cat1, Length: 1000, dtype: float64"
      ]
     },
     "execution_count": 6,
     "metadata": {},
     "output_type": "execute_result"
    }
   ],
   "source": [
    "# 'cat1' is in index 5 of df\n",
    "\n",
    "encoded_col = column_encoder(df, 5) \n",
    "\n",
    "encoded_col"
   ]
  },
  {
   "cell_type": "code",
   "execution_count": 7,
   "metadata": {},
   "outputs": [
    {
     "data": {
      "text/plain": [
       "{-6.906754778648553,\n",
       " -6.212606095751518,\n",
       " -5.806138481293729,\n",
       " -5.517452896464707,\n",
       " -5.293304824724492,\n",
       " -5.109977737428519,\n",
       " -4.9548205149898585}"
      ]
     },
     "execution_count": 7,
     "metadata": {},
     "output_type": "execute_result"
    }
   ],
   "source": [
    "set(encoded_col)"
   ]
  },
  {
   "cell_type": "markdown",
   "metadata": {},
   "source": [
    "The 427 cardinality column has been reduced to just 6 unique values."
   ]
  },
  {
   "cell_type": "markdown",
   "metadata": {},
   "source": [
    "###### One-hot encoding"
   ]
  },
  {
   "cell_type": "code",
   "execution_count": 8,
   "metadata": {},
   "outputs": [
    {
     "data": {
      "text/html": [
       "<div>\n",
       "<style scoped>\n",
       "    .dataframe tbody tr th:only-of-type {\n",
       "        vertical-align: middle;\n",
       "    }\n",
       "\n",
       "    .dataframe tbody tr th {\n",
       "        vertical-align: top;\n",
       "    }\n",
       "\n",
       "    .dataframe thead th {\n",
       "        text-align: right;\n",
       "    }\n",
       "</style>\n",
       "<table border=\"1\" class=\"dataframe\">\n",
       "  <thead>\n",
       "    <tr style=\"text-align: right;\">\n",
       "      <th></th>\n",
       "      <th>0</th>\n",
       "      <th>1</th>\n",
       "      <th>2</th>\n",
       "      <th>3</th>\n",
       "      <th>4</th>\n",
       "      <th>5</th>\n",
       "      <th>6</th>\n",
       "      <th>7</th>\n",
       "      <th>8</th>\n",
       "    </tr>\n",
       "  </thead>\n",
       "  <tbody>\n",
       "    <tr>\n",
       "      <th>0</th>\n",
       "      <td>0.0</td>\n",
       "      <td>0.0</td>\n",
       "      <td>1.0</td>\n",
       "      <td>0.0</td>\n",
       "      <td>0.0</td>\n",
       "      <td>0.0</td>\n",
       "      <td>0.0</td>\n",
       "      <td>0.0</td>\n",
       "      <td>0.0</td>\n",
       "    </tr>\n",
       "    <tr>\n",
       "      <th>1</th>\n",
       "      <td>0.0</td>\n",
       "      <td>0.0</td>\n",
       "      <td>1.0</td>\n",
       "      <td>0.0</td>\n",
       "      <td>0.0</td>\n",
       "      <td>0.0</td>\n",
       "      <td>0.0</td>\n",
       "      <td>0.0</td>\n",
       "      <td>0.0</td>\n",
       "    </tr>\n",
       "    <tr>\n",
       "      <th>2</th>\n",
       "      <td>1.0</td>\n",
       "      <td>0.0</td>\n",
       "      <td>0.0</td>\n",
       "      <td>0.0</td>\n",
       "      <td>0.0</td>\n",
       "      <td>0.0</td>\n",
       "      <td>0.0</td>\n",
       "      <td>0.0</td>\n",
       "      <td>0.0</td>\n",
       "    </tr>\n",
       "    <tr>\n",
       "      <th>3</th>\n",
       "      <td>0.0</td>\n",
       "      <td>0.0</td>\n",
       "      <td>0.0</td>\n",
       "      <td>0.0</td>\n",
       "      <td>0.0</td>\n",
       "      <td>0.0</td>\n",
       "      <td>1.0</td>\n",
       "      <td>0.0</td>\n",
       "      <td>0.0</td>\n",
       "    </tr>\n",
       "    <tr>\n",
       "      <th>4</th>\n",
       "      <td>0.0</td>\n",
       "      <td>1.0</td>\n",
       "      <td>0.0</td>\n",
       "      <td>0.0</td>\n",
       "      <td>0.0</td>\n",
       "      <td>0.0</td>\n",
       "      <td>0.0</td>\n",
       "      <td>0.0</td>\n",
       "      <td>0.0</td>\n",
       "    </tr>\n",
       "    <tr>\n",
       "      <th>...</th>\n",
       "      <td>...</td>\n",
       "      <td>...</td>\n",
       "      <td>...</td>\n",
       "      <td>...</td>\n",
       "      <td>...</td>\n",
       "      <td>...</td>\n",
       "      <td>...</td>\n",
       "      <td>...</td>\n",
       "      <td>...</td>\n",
       "    </tr>\n",
       "    <tr>\n",
       "      <th>995</th>\n",
       "      <td>0.0</td>\n",
       "      <td>0.0</td>\n",
       "      <td>0.0</td>\n",
       "      <td>0.0</td>\n",
       "      <td>0.0</td>\n",
       "      <td>0.0</td>\n",
       "      <td>0.0</td>\n",
       "      <td>0.0</td>\n",
       "      <td>1.0</td>\n",
       "    </tr>\n",
       "    <tr>\n",
       "      <th>996</th>\n",
       "      <td>0.0</td>\n",
       "      <td>0.0</td>\n",
       "      <td>0.0</td>\n",
       "      <td>0.0</td>\n",
       "      <td>0.0</td>\n",
       "      <td>0.0</td>\n",
       "      <td>0.0</td>\n",
       "      <td>0.0</td>\n",
       "      <td>1.0</td>\n",
       "    </tr>\n",
       "    <tr>\n",
       "      <th>997</th>\n",
       "      <td>0.0</td>\n",
       "      <td>0.0</td>\n",
       "      <td>0.0</td>\n",
       "      <td>1.0</td>\n",
       "      <td>0.0</td>\n",
       "      <td>0.0</td>\n",
       "      <td>0.0</td>\n",
       "      <td>0.0</td>\n",
       "      <td>0.0</td>\n",
       "    </tr>\n",
       "    <tr>\n",
       "      <th>998</th>\n",
       "      <td>0.0</td>\n",
       "      <td>0.0</td>\n",
       "      <td>0.0</td>\n",
       "      <td>0.0</td>\n",
       "      <td>0.0</td>\n",
       "      <td>0.0</td>\n",
       "      <td>0.0</td>\n",
       "      <td>0.0</td>\n",
       "      <td>1.0</td>\n",
       "    </tr>\n",
       "    <tr>\n",
       "      <th>999</th>\n",
       "      <td>0.0</td>\n",
       "      <td>0.0</td>\n",
       "      <td>0.0</td>\n",
       "      <td>0.0</td>\n",
       "      <td>0.0</td>\n",
       "      <td>0.0</td>\n",
       "      <td>0.0</td>\n",
       "      <td>1.0</td>\n",
       "      <td>0.0</td>\n",
       "    </tr>\n",
       "  </tbody>\n",
       "</table>\n",
       "<p>1000 rows × 9 columns</p>\n",
       "</div>"
      ],
      "text/plain": [
       "       0    1    2    3    4    5    6    7    8\n",
       "0    0.0  0.0  1.0  0.0  0.0  0.0  0.0  0.0  0.0\n",
       "1    0.0  0.0  1.0  0.0  0.0  0.0  0.0  0.0  0.0\n",
       "2    1.0  0.0  0.0  0.0  0.0  0.0  0.0  0.0  0.0\n",
       "3    0.0  0.0  0.0  0.0  0.0  0.0  1.0  0.0  0.0\n",
       "4    0.0  1.0  0.0  0.0  0.0  0.0  0.0  0.0  0.0\n",
       "..   ...  ...  ...  ...  ...  ...  ...  ...  ...\n",
       "995  0.0  0.0  0.0  0.0  0.0  0.0  0.0  0.0  1.0\n",
       "996  0.0  0.0  0.0  0.0  0.0  0.0  0.0  0.0  1.0\n",
       "997  0.0  0.0  0.0  1.0  0.0  0.0  0.0  0.0  0.0\n",
       "998  0.0  0.0  0.0  0.0  0.0  0.0  0.0  0.0  1.0\n",
       "999  0.0  0.0  0.0  0.0  0.0  0.0  0.0  1.0  0.0\n",
       "\n",
       "[1000 rows x 9 columns]"
      ]
     },
     "execution_count": 8,
     "metadata": {},
     "output_type": "execute_result"
    }
   ],
   "source": [
    "# 'cat2' is in index 6 of df\n",
    "\n",
    "\n",
    "encoded_col = column_encoder(df, 6)\n",
    "\n",
    "encoded_col"
   ]
  },
  {
   "cell_type": "markdown",
   "metadata": {},
   "source": [
    "For lower cardinality columns, One-hot encoding is performed."
   ]
  },
  {
   "cell_type": "markdown",
   "metadata": {},
   "source": [
    "# <a class=\"tocSkip\">"
   ]
  },
  {
   "cell_type": "markdown",
   "metadata": {},
   "source": [
    "### Option 2 - Feature hashing and One-hot encoding"
   ]
  },
  {
   "cell_type": "markdown",
   "metadata": {},
   "source": [
    "In feature hashing, a categorical column can be mapped to a 'n' dimensional space no matter what the cardinality.\n",
    "\n",
    "Here, we employ Feature hashing when the cardinality of a categorical column is above 10, and one-hot encoding otherwise."
   ]
  },
  {
   "cell_type": "code",
   "execution_count": 9,
   "metadata": {},
   "outputs": [],
   "source": [
    "def column_encoder(df, i):\n",
    "    \n",
    "    \"\"\"\n",
    "    Returns the feature hash for a categorical column in the input dataframe.\n",
    "    \n",
    "    Args ->\n",
    "        df (pd.Series or pd.DataFrame): The input dataframe\n",
    "        i (int): The index of the column in the df to be transformed\n",
    "    \n",
    "    Returns ->\n",
    "        encoded (pd.Series): A pd.Series object which is an encoded form of the\n",
    "        original column.\n",
    "    \n",
    "    Raises ->\n",
    "        AssertionError: On various conditions\n",
    "    \"\"\"\n",
    "    \n",
    "    assert df.shape[0] > 0\n",
    "    assert isinstance(i, int)\n",
    "    \n",
    "    col = df.iloc[:,i]\n",
    "    \n",
    "    \n",
    "    # Checking if column in categorical\n",
    "    if col.dtype not in ['str', 'object', 'O']:\n",
    "        return\n",
    "    \n",
    "    # Checking number of unique levels    \n",
    "    cardinality = len(col.unique())\n",
    "    \n",
    "    # Feature hashing\n",
    "    if cardinality > 10:\n",
    "        \n",
    "        h = FeatureHasher(n_features = 10, input_type='string')\n",
    "        encoded = h.transform(col).toarray()\n",
    "        encoded = pd.DataFrame(encoded)\n",
    "        \n",
    "        return encoded\n",
    "    \n",
    "    # One-hot encoding\n",
    "    else:\n",
    "        ohe = OneHotEncoder(handle_unknown='ignore', sparse=True)\n",
    "        encoded = ohe.fit_transform(np.array(col).reshape(-1,1))\n",
    "        encoded = pd.DataFrame(encoded.toarray())\n",
    "        return encoded"
   ]
  },
  {
   "cell_type": "markdown",
   "metadata": {},
   "source": [
    "#### Testing it out (2)"
   ]
  },
  {
   "cell_type": "markdown",
   "metadata": {},
   "source": [
    "###### Feature hashing"
   ]
  },
  {
   "cell_type": "code",
   "execution_count": 10,
   "metadata": {},
   "outputs": [
    {
     "data": {
      "text/html": [
       "<div>\n",
       "<style scoped>\n",
       "    .dataframe tbody tr th:only-of-type {\n",
       "        vertical-align: middle;\n",
       "    }\n",
       "\n",
       "    .dataframe tbody tr th {\n",
       "        vertical-align: top;\n",
       "    }\n",
       "\n",
       "    .dataframe thead th {\n",
       "        text-align: right;\n",
       "    }\n",
       "</style>\n",
       "<table border=\"1\" class=\"dataframe\">\n",
       "  <thead>\n",
       "    <tr style=\"text-align: right;\">\n",
       "      <th></th>\n",
       "      <th>0</th>\n",
       "      <th>1</th>\n",
       "      <th>2</th>\n",
       "      <th>3</th>\n",
       "      <th>4</th>\n",
       "      <th>5</th>\n",
       "      <th>6</th>\n",
       "      <th>7</th>\n",
       "      <th>8</th>\n",
       "      <th>9</th>\n",
       "    </tr>\n",
       "  </thead>\n",
       "  <tbody>\n",
       "    <tr>\n",
       "      <th>0</th>\n",
       "      <td>1.0</td>\n",
       "      <td>1.0</td>\n",
       "      <td>-1.0</td>\n",
       "      <td>0.0</td>\n",
       "      <td>0.0</td>\n",
       "      <td>0.0</td>\n",
       "      <td>0.0</td>\n",
       "      <td>-1.0</td>\n",
       "      <td>0.0</td>\n",
       "      <td>0.0</td>\n",
       "    </tr>\n",
       "    <tr>\n",
       "      <th>1</th>\n",
       "      <td>2.0</td>\n",
       "      <td>1.0</td>\n",
       "      <td>-1.0</td>\n",
       "      <td>0.0</td>\n",
       "      <td>0.0</td>\n",
       "      <td>0.0</td>\n",
       "      <td>0.0</td>\n",
       "      <td>0.0</td>\n",
       "      <td>0.0</td>\n",
       "      <td>0.0</td>\n",
       "    </tr>\n",
       "    <tr>\n",
       "      <th>2</th>\n",
       "      <td>1.0</td>\n",
       "      <td>1.0</td>\n",
       "      <td>-1.0</td>\n",
       "      <td>0.0</td>\n",
       "      <td>0.0</td>\n",
       "      <td>0.0</td>\n",
       "      <td>0.0</td>\n",
       "      <td>-1.0</td>\n",
       "      <td>0.0</td>\n",
       "      <td>0.0</td>\n",
       "    </tr>\n",
       "    <tr>\n",
       "      <th>3</th>\n",
       "      <td>0.0</td>\n",
       "      <td>1.0</td>\n",
       "      <td>-2.0</td>\n",
       "      <td>-1.0</td>\n",
       "      <td>0.0</td>\n",
       "      <td>0.0</td>\n",
       "      <td>0.0</td>\n",
       "      <td>0.0</td>\n",
       "      <td>0.0</td>\n",
       "      <td>0.0</td>\n",
       "    </tr>\n",
       "    <tr>\n",
       "      <th>4</th>\n",
       "      <td>1.0</td>\n",
       "      <td>0.0</td>\n",
       "      <td>-2.0</td>\n",
       "      <td>0.0</td>\n",
       "      <td>0.0</td>\n",
       "      <td>0.0</td>\n",
       "      <td>0.0</td>\n",
       "      <td>0.0</td>\n",
       "      <td>0.0</td>\n",
       "      <td>-1.0</td>\n",
       "    </tr>\n",
       "    <tr>\n",
       "      <th>...</th>\n",
       "      <td>...</td>\n",
       "      <td>...</td>\n",
       "      <td>...</td>\n",
       "      <td>...</td>\n",
       "      <td>...</td>\n",
       "      <td>...</td>\n",
       "      <td>...</td>\n",
       "      <td>...</td>\n",
       "      <td>...</td>\n",
       "      <td>...</td>\n",
       "    </tr>\n",
       "    <tr>\n",
       "      <th>995</th>\n",
       "      <td>1.0</td>\n",
       "      <td>2.0</td>\n",
       "      <td>-1.0</td>\n",
       "      <td>0.0</td>\n",
       "      <td>0.0</td>\n",
       "      <td>0.0</td>\n",
       "      <td>0.0</td>\n",
       "      <td>0.0</td>\n",
       "      <td>0.0</td>\n",
       "      <td>0.0</td>\n",
       "    </tr>\n",
       "    <tr>\n",
       "      <th>996</th>\n",
       "      <td>0.0</td>\n",
       "      <td>2.0</td>\n",
       "      <td>-2.0</td>\n",
       "      <td>0.0</td>\n",
       "      <td>0.0</td>\n",
       "      <td>0.0</td>\n",
       "      <td>0.0</td>\n",
       "      <td>0.0</td>\n",
       "      <td>0.0</td>\n",
       "      <td>0.0</td>\n",
       "    </tr>\n",
       "    <tr>\n",
       "      <th>997</th>\n",
       "      <td>1.0</td>\n",
       "      <td>0.0</td>\n",
       "      <td>-1.0</td>\n",
       "      <td>0.0</td>\n",
       "      <td>0.0</td>\n",
       "      <td>0.0</td>\n",
       "      <td>0.0</td>\n",
       "      <td>-1.0</td>\n",
       "      <td>1.0</td>\n",
       "      <td>0.0</td>\n",
       "    </tr>\n",
       "    <tr>\n",
       "      <th>998</th>\n",
       "      <td>1.0</td>\n",
       "      <td>0.0</td>\n",
       "      <td>-1.0</td>\n",
       "      <td>-1.0</td>\n",
       "      <td>0.0</td>\n",
       "      <td>0.0</td>\n",
       "      <td>0.0</td>\n",
       "      <td>0.0</td>\n",
       "      <td>1.0</td>\n",
       "      <td>0.0</td>\n",
       "    </tr>\n",
       "    <tr>\n",
       "      <th>999</th>\n",
       "      <td>2.0</td>\n",
       "      <td>1.0</td>\n",
       "      <td>-1.0</td>\n",
       "      <td>0.0</td>\n",
       "      <td>0.0</td>\n",
       "      <td>0.0</td>\n",
       "      <td>0.0</td>\n",
       "      <td>0.0</td>\n",
       "      <td>0.0</td>\n",
       "      <td>0.0</td>\n",
       "    </tr>\n",
       "  </tbody>\n",
       "</table>\n",
       "<p>1000 rows × 10 columns</p>\n",
       "</div>"
      ],
      "text/plain": [
       "       0    1    2    3    4    5    6    7    8    9\n",
       "0    1.0  1.0 -1.0  0.0  0.0  0.0  0.0 -1.0  0.0  0.0\n",
       "1    2.0  1.0 -1.0  0.0  0.0  0.0  0.0  0.0  0.0  0.0\n",
       "2    1.0  1.0 -1.0  0.0  0.0  0.0  0.0 -1.0  0.0  0.0\n",
       "3    0.0  1.0 -2.0 -1.0  0.0  0.0  0.0  0.0  0.0  0.0\n",
       "4    1.0  0.0 -2.0  0.0  0.0  0.0  0.0  0.0  0.0 -1.0\n",
       "..   ...  ...  ...  ...  ...  ...  ...  ...  ...  ...\n",
       "995  1.0  2.0 -1.0  0.0  0.0  0.0  0.0  0.0  0.0  0.0\n",
       "996  0.0  2.0 -2.0  0.0  0.0  0.0  0.0  0.0  0.0  0.0\n",
       "997  1.0  0.0 -1.0  0.0  0.0  0.0  0.0 -1.0  1.0  0.0\n",
       "998  1.0  0.0 -1.0 -1.0  0.0  0.0  0.0  0.0  1.0  0.0\n",
       "999  2.0  1.0 -1.0  0.0  0.0  0.0  0.0  0.0  0.0  0.0\n",
       "\n",
       "[1000 rows x 10 columns]"
      ]
     },
     "execution_count": 10,
     "metadata": {},
     "output_type": "execute_result"
    }
   ],
   "source": [
    "# 'cat1' is in index 5 of df\n",
    "\n",
    "encoded_col = column_encoder(df, 5)\n",
    "\n",
    "encoded_col"
   ]
  },
  {
   "cell_type": "markdown",
   "metadata": {},
   "source": [
    "The 427 cardinality column has been reduced to a 10 dimensional vector."
   ]
  }
 ],
 "metadata": {
  "kernelspec": {
   "display_name": "Python 3",
   "language": "python",
   "name": "python3"
  },
  "language_info": {
   "codemirror_mode": {
    "name": "ipython",
    "version": 3
   },
   "file_extension": ".py",
   "mimetype": "text/x-python",
   "name": "python",
   "nbconvert_exporter": "python",
   "pygments_lexer": "ipython3",
   "version": "3.7.6"
  },
  "toc": {
   "base_numbering": 1,
   "nav_menu": {},
   "number_sections": true,
   "sideBar": true,
   "skip_h1_title": true,
   "title_cell": "Table of Contents",
   "title_sidebar": "Contents",
   "toc_cell": true,
   "toc_position": {},
   "toc_section_display": true,
   "toc_window_display": false
  }
 },
 "nbformat": 4,
 "nbformat_minor": 4
}
